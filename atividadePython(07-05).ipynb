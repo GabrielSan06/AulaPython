{
 "cells": [
  {
   "cell_type": "code",
   "execution_count": 1,
   "metadata": {},
   "outputs": [
    {
     "name": "stdout",
     "output_type": "stream",
     "text": [
      "Estamos no elemento 1\n",
      "Estamos no elemento 2\n",
      "Estamos no elemento 3\n",
      "Estamos no elemento 4\n",
      "Estamos no elemento 5\n",
      "Estamos no elemento 6\n"
     ]
    }
   ],
   "source": [
    "# Criando uma estrutura de repetição \"for\" e printando seus valores\n",
    "for elemento in [1, 2, 3, 4, 5, 6] :\n",
    "    print(\"Estamos no elemento\", elemento)"
   ]
  },
  {
   "cell_type": "code",
   "execution_count": 2,
   "metadata": {},
   "outputs": [
    {
     "name": "stdout",
     "output_type": "stream",
     "text": [
      "Estamos no elemento S\n",
      "Estamos no elemento T\n",
      "Estamos no elemento R\n",
      "Estamos no elemento I\n",
      "Estamos no elemento N\n",
      "Estamos no elemento G\n"
     ]
    }
   ],
   "source": [
    "# Printando cada letra da palavra STRING\n",
    "for elemento in 'STRING':\n",
    "    print(\"Estamos no elemento\", elemento)"
   ]
  },
  {
   "cell_type": "code",
   "execution_count": 3,
   "metadata": {},
   "outputs": [
    {
     "name": "stdout",
     "output_type": "stream",
     "text": [
      "Estamos no elemento 0\n",
      "Estamos no elemento 1\n",
      "Estamos no elemento 2\n",
      "Estamos no elemento 3\n",
      "Estamos no elemento 4\n",
      "Estamos no elemento 5\n"
     ]
    }
   ],
   "source": [
    "# Contando cada índice de acordo com a palavra STRING\n",
    "for elemento in range(len(\"STRING\")):\n",
    "    print(\"Estamos no elemento\", elemento)"
   ]
  },
  {
   "cell_type": "code",
   "execution_count": 4,
   "metadata": {},
   "outputs": [
    {
     "name": "stdout",
     "output_type": "stream",
     "text": [
      "Estamos no elemento 0\n",
      "Estamos no elemento 1\n",
      "Estamos no elemento 2\n",
      "Estamos no elemento 3\n",
      "Estamos no elemento 4\n",
      "Estamos no elemento 5\n",
      "Estamos no elemento 6\n"
     ]
    }
   ],
   "source": [
    "# While é utilizado quando não se sabe onde termina\n",
    "\n",
    "#Criando estrutura de repetição para fazer a contagem de todos os números da lista\n",
    "elemento = 0\n",
    "while elemento <= len([1,2,3,4,5,6]):\n",
    "    print(\"Estamos no elemento\", elemento)\n",
    "    elemento += 1  #Evitando Loop"
   ]
  },
  {
   "cell_type": "code",
   "execution_count": 5,
   "metadata": {},
   "outputs": [
    {
     "name": "stdout",
     "output_type": "stream",
     "text": [
      "Estamos no elemento S\n",
      "Estamos no elemento T\n",
      "Estamos no elemento R\n",
      "Estamos no elemento I\n",
      "Estamos no elemento N\n",
      "Estamos no elemento G\n"
     ]
    }
   ],
   "source": [
    "# atriubuindo valores as variáveis s e indice para serem utilizadas no while\n",
    "s = \"STRING\"\n",
    "indice = 0\n",
    "\n",
    "# Enquanto indice em estiver no intervalo da quantidade de caracteres, printar o  caractere na posição indicada por ele\n",
    "while indice in range(len(s)):\n",
    "    print(\"Estamos no elemento\", s[indice])\n",
    "    indice +=1"
   ]
  },
  {
   "cell_type": "code",
   "execution_count": 7,
   "metadata": {},
   "outputs": [
    {
     "name": "stdout",
     "output_type": "stream",
     "text": [
      "0 t\n",
      "1 r\n",
      "2 a\n",
      "3 n\n",
      "4 q\n",
      "5 u\n",
      "6 i\n",
      "7 l\n",
      "8 o\n"
     ]
    }
   ],
   "source": [
    "# Utilizando repetição e printando o indice e sua respectiva letra\n",
    "palavra = \"tranquilo\"\n",
    "for indice, letra in enumerate(palavra): #Enumerate cria um índice para cada elemento (são necessárias duas variáveis em for)\n",
    "    print(indice, letra)"
   ]
  },
  {
   "cell_type": "code",
   "execution_count": 8,
   "metadata": {},
   "outputs": [],
   "source": [
    "lista = [\"eat\", \"sleep\", \"repeat\"]\n",
    "palavra = \"geek\""
   ]
  },
  {
   "cell_type": "code",
   "execution_count": 10,
   "metadata": {},
   "outputs": [
    {
     "name": "stdout",
     "output_type": "stream",
     "text": [
      "<enumerate object at 0x000002BF2CEEDCB0>\n",
      "<enumerate object at 0x000002BF2CEEE930>\n"
     ]
    }
   ],
   "source": [
    "objeto1 = enumerate(lista)\n",
    "objeto2 = enumerate(palavra)\n",
    "\n",
    "print(objeto1)\n",
    "print(objeto2)"
   ]
  },
  {
   "cell_type": "code",
   "execution_count": 11,
   "metadata": {},
   "outputs": [
    {
     "name": "stdout",
     "output_type": "stream",
     "text": [
      "Tipo:  <class 'enumerate'>\n",
      "[(0, 'eat'), (1, 'sleep'), (2, 'repeat')]\n"
     ]
    }
   ],
   "source": [
    "print(\"Tipo: \", type(objeto1))\n",
    "print(list(enumerate(lista)))"
   ]
  },
  {
   "cell_type": "code",
   "execution_count": 12,
   "metadata": {},
   "outputs": [
    {
     "name": "stdout",
     "output_type": "stream",
     "text": [
      "[(2, 'g'), (3, 'e'), (4, 'e'), (5, 'k')]\n"
     ]
    }
   ],
   "source": [
    "# alterando o indice para iniciar em 2\n",
    "print(list(enumerate(palavra,2)))"
   ]
  },
  {
   "cell_type": "code",
   "execution_count": 13,
   "metadata": {},
   "outputs": [
    {
     "name": "stdout",
     "output_type": "stream",
     "text": [
      "oi\n",
      "oi\n",
      "oi\n",
      "oi\n",
      "oi\n"
     ]
    }
   ],
   "source": [
    "s = \"viva o python\"\n",
    "for ch in s[3:8]:\n",
    "    print(\"oi\")"
   ]
  },
  {
   "cell_type": "code",
   "execution_count": 23,
   "metadata": {},
   "outputs": [
    {
     "name": "stdout",
     "output_type": "stream",
     "text": [
      "[1, 2, 3, 4, 5]\n"
     ]
    }
   ],
   "source": [
    "# Solicitar 10 números ao usuário e armazenando em uma lista\n",
    "lista = [0,0,0,0,0,0,0,0,0,0]\n",
    "for num in range(10):\n",
    "    lista[num] = int(input(\"Digite um número\"))\n",
    "print(lista)\n",
    "\n",
    "if  \n",
    "\n"
   ]
  }
 ],
 "metadata": {
  "kernelspec": {
   "display_name": "Python 3",
   "language": "python",
   "name": "python3"
  },
  "language_info": {
   "codemirror_mode": {
    "name": "ipython",
    "version": 3
   },
   "file_extension": ".py",
   "mimetype": "text/x-python",
   "name": "python",
   "nbconvert_exporter": "python",
   "pygments_lexer": "ipython3",
   "version": "3.11.9"
  }
 },
 "nbformat": 4,
 "nbformat_minor": 2
}
