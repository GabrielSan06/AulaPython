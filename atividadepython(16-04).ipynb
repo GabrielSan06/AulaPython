{
 "cells": [
  {
   "cell_type": "code",
   "execution_count": 1,
   "metadata": {},
   "outputs": [
    {
     "name": "stdout",
     "output_type": "stream",
     "text": [
      "O valor do imposto a ser pago é de R$ 75.0\n"
     ]
    }
   ],
   "source": [
    "# Solicitando o ano e o preço do carro. \n",
    "ano = int(input(\"Digite o ano do seu carro: \"))\n",
    "preco = float(input(\"Digite o preço do seu carro: \"))\n",
    "\n",
    "# Verificando se o ano do carro é menor ou maior que 1990 para calcular o valor a ser pago.\n",
    "if (ano < 1990):\n",
    "        imposto = 0.015 * preco\n",
    "        print  (\"O valor do imposto a ser pago é de R$\", imposto)\n",
    "else: \n",
    "        imposto = 0.01 * preco\n",
    "        print  (\"O valor do imposto a ser pago é de R$\", imposto)"
   ]
  },
  {
   "cell_type": "code",
   "execution_count": 6,
   "metadata": {},
   "outputs": [
    {
     "name": "stdout",
     "output_type": "stream",
     "text": [
      "Seu salário antigo era:  4000.0 Seu novo salário é R$ 4800.0  Seu aumento em Reais é R$ 800.0\n"
     ]
    }
   ],
   "source": [
    "# Criando variáveis para armazenar os cargos para facilitar na condição.\n",
    "cargo1 = \"Gerente\"\n",
    "cargo2 = \"Engenheiro\"\n",
    "cargo3 = \"Técnico\"\n",
    "\n",
    "# Solicitando ao usuário o seu cargo e o seu salário.\n",
    "cargo = input(\"Informe seu cargo: \")\n",
    "salarioAtual = float(input(\"Informe seu salário atual: \"))\n",
    "\n",
    "# Utilizando condicional para verificar o cargo e fazer o calculo do seu aumento baseado nisso.\n",
    "if (cargo == cargo1):\n",
    "        novoSalario = salarioAtual + (salarioAtual * 0.1)\n",
    "        diferenca = novoSalario - salarioAtual\n",
    "        print(\"Seu salário antigo era R$\", salarioAtual ,\"Seu novo salário é R$\", novoSalario, \" Seu aumento em Reais é R$\",  diferenca)\n",
    "\n",
    "elif (cargo == cargo2):\n",
    "        # Calculando o novo salário, somando o mesmo a taxa de \n",
    "        novoSalario = salarioAtual + (salarioAtual * 0.2)\n",
    "        diferenca = novoSalario - salarioAtual\n",
    "        print(\"Seu salário antigo era R$\", salarioAtual , \"Seu novo salário é R$\", novoSalario, \" Seu aumento em Reais é R$\", diferenca)\n",
    "\n",
    "elif (cargo == cargo3):\n",
    "        novoSalario = salarioAtual + (salarioAtual * 0.3)\n",
    "        diferenca = novoSalario - salarioAtual\n",
    "        print(\"Seu salário antigo era R$\", salarioAtual , \"Seu novo salário é R$\", novoSalario,\" Seu aumento em Reais é R$\", diferenca)\n",
    "\n",
    "else: \n",
    "        novoSalario = salarioAtual + (salarioAtual * 0.4)\n",
    "        diferenca = novoSalario - salarioAtual\n",
    "        print(\"Seu salário antigo era R$\", salarioAtual , \"Seu novo salário é R$\", novoSalario,\" Seu aumento em Reais é R$\", diferenca)\n",
    "        "
   ]
  }
 ],
 "metadata": {
  "kernelspec": {
   "display_name": "Python 3",
   "language": "python",
   "name": "python3"
  },
  "language_info": {
   "codemirror_mode": {
    "name": "ipython",
    "version": 3
   },
   "file_extension": ".py",
   "mimetype": "text/x-python",
   "name": "python",
   "nbconvert_exporter": "python",
   "pygments_lexer": "ipython3",
   "version": "3.11.9"
  }
 },
 "nbformat": 4,
 "nbformat_minor": 2
}
