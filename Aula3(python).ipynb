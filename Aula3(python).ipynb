{
 "cells": [
  {
   "cell_type": "code",
   "execution_count": 2,
   "metadata": {},
   "outputs": [
    {
     "name": "stdout",
     "output_type": "stream",
     "text": [
      "O número informado foi:  7\n"
     ]
    }
   ],
   "source": [
    "# Solicitando um número.\n",
    "num = int(input (\"Digite um número inteiro: \"))\n",
    "\n",
    "# Printando mensagem + o número ao usuário.\n",
    "print (\"O número informado foi: \", num)"
   ]
  },
  {
   "cell_type": "code",
   "execution_count": 3,
   "metadata": {},
   "outputs": [
    {
     "name": "stdout",
     "output_type": "stream",
     "text": [
      "A soma dos números é:  68\n"
     ]
    }
   ],
   "source": [
    "# Solicitando dois números.\n",
    "num1 = int(input(\"Digite um número inteiro: \"))\n",
    "num2 = int(input(\"Digite outro número inteiro: \"))\n",
    "\n",
    "# Somando os valores das variáveis.\n",
    "soma = num1 + num2\n",
    "\n",
    "# Pritando ao usuário.\n",
    "print (\"A soma dos números é: \", soma)"
   ]
  },
  {
   "cell_type": "code",
   "execution_count": 6,
   "metadata": {},
   "outputs": [
    {
     "name": "stdout",
     "output_type": "stream",
     "text": [
      "Sua média é:  9.166666666666666\n"
     ]
    }
   ],
   "source": [
    "# Solicitando 3 notas ao usuário.\n",
    "nota1 = float(input(\"Digite a nota 1: \"))\n",
    "nota2 = float(input(\"Digite a nota 2: \"))\n",
    "nota3 = float(input(\"Digite a nota 3: \"))\n",
    "\n",
    "# Calculando a média.\n",
    "media = (nota1 + nota2 + nota3) / 3\n",
    "\n",
    "# Mostrando a média ao usuário.\n",
    "print(\"Sua média é: \", media)"
   ]
  },
  {
   "cell_type": "code",
   "execution_count": 8,
   "metadata": {},
   "outputs": [
    {
     "name": "stdout",
     "output_type": "stream",
     "text": [
      "Seu salário mensal é:  800.0\n"
     ]
    }
   ],
   "source": [
    "#Solicitando informações ao usuário.\n",
    "salarioPorHora = float(input(\"Informe quanto você ganha por hora: \"))\n",
    "horasTrabalhadas = float(input(\"Informe o número de horas trabalhadas no  mês: \"))\n",
    "\n",
    "#Calculando o salário total.\n",
    "salarioTotal = salarioPorHora * horasTrabalhadas\n",
    "\n",
    "# Printando o salário ao usuário.\n",
    "print(\"Seu salário mensal é: \", salarioTotal)"
   ]
  },
  {
   "cell_type": "code",
   "execution_count": 9,
   "metadata": {},
   "outputs": [
    {
     "name": "stdout",
     "output_type": "stream",
     "text": [
      "A multa por exceder o peso permitido é:  40.0\n"
     ]
    }
   ],
   "source": [
    "# Criando variável para salvar peso total pescado.\n",
    "pesoPeixes = float(input(\"Informe o peso de peixes pescados: \"))\n",
    "\n",
    "# Criando condicional para  verificar se a quantidade de peixe.\n",
    "if (pesoPeixes > 50):\n",
    "        \n",
    "        # Calculando excesso da multa.\n",
    "        excesso = pesoPeixes -  50\n",
    "\n",
    "        # Multiplicando o peso restante pela taxa da multa.\n",
    "        multa = excesso * 4\n",
    "\n",
    "        # Informando ao pescador o valor da multa.\n",
    "        print(\"A multa por exceder o peso permitido é: \", multa)\n",
    "\n",
    "# Condição \"else\" para realizar o contrário do \"if\"\n",
    "else:\n",
    "        # Printando caso o pescador não precise pagaar a multa.\n",
    "        print(\"Você não pagará multa!\")"
   ]
  }
 ],
 "metadata": {
  "kernelspec": {
   "display_name": "Python 3",
   "language": "python",
   "name": "python3"
  },
  "language_info": {
   "codemirror_mode": {
    "name": "ipython",
    "version": 3
   },
   "file_extension": ".py",
   "mimetype": "text/x-python",
   "name": "python",
   "nbconvert_exporter": "python",
   "pygments_lexer": "ipython3",
   "version": "3.11.9"
  }
 },
 "nbformat": 4,
 "nbformat_minor": 2
}
