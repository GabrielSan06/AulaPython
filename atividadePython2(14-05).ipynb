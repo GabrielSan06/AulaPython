{
 "cells": [
  {
   "cell_type": "code",
   "execution_count": 16,
   "metadata": {},
   "outputs": [
    {
     "name": "stdout",
     "output_type": "stream",
     "text": [
      "A letra b é uma consoante\n"
     ]
    }
   ],
   "source": [
    "# (1) PROGRAMA QUE VERIFICA SE UMA LETRA DIGITADA É VOGAL OU CONSOANTE\n",
    "\n",
    "# Solicitando uma letra ao usuário\n",
    "letra = input(\"Digite uma letra: \") \n",
    "\n",
    "# Verificando se a letra é uma vogal\n",
    "if (letra == \"a\" or letra == \"A\"):\n",
    "    print(\"A letra \" + letra + \" é uma vogal\")\n",
    "elif (letra == \"e\"or letra == \"E\"):\n",
    "    print(\"A letra \" + letra + \" é uma vogal\")\n",
    "elif (letra == \"i\" or letra == \"I\"):\n",
    "    print(\"A letra \" + letra + \" é uma vogal\")\n",
    "elif (letra == \"o\" or letra == \"O\"):\n",
    "    print(\"A letra \" + letra + \" é uma vogal\")\n",
    "elif (letra == \"u\" or letra == \"U\"):\n",
    "    print(\"A letra \" + letra + \" é uma vogal\")\n",
    "else: \n",
    "    print(\"A letra \" + letra + \" é uma consoante\")"
   ]
  },
  {
   "cell_type": "code",
   "execution_count": null,
   "metadata": {},
   "outputs": [],
   "source": [
    "# (2) PROGRAMA QUE PERGUNTA O PREÇO DE TRÊS PRODUTOS E INFORMA QUAL O CLIENTE DEVE COMPRAR, SABENDO QUE A DECISÃ É SEMPRE PELO MAIS BARATO\n",
    "\n",
    "# Solicitando ao usuário o preço de três produtos:\n",
    "produto1 = input(\"Informe o valor do primeiro produto: \")\n",
    "produto2 = input(\"Informe o valor do segundo produto: \")\n",
    "produto3 = input(\"Informe o valor do terceiro produto: \")\n",
    "\n",
    "# Verificando qual o produto de menor valor:\n",
    "# Verificando se o produto 1 é menor\n",
    "if (produto1 < produto2 and produto1 < produto3):\n",
    "    print(\"Você deve comprar o produto 1, de valor: \" + produto1)\n",
    "\n",
    "# Verificando se o produto 2 é menor\n",
    "elif (produto2 < produto1 and produto2 < produto3):\n",
    "    print(\"Você deve comprar o produto 2, de valor: \" + produto2)\n",
    "\n",
    "# Verificando se o produto 3 é menor\n",
    "elif (produto3 < produto1 and produto3 < produto2):\n",
    "    print(\"Você deve comprar o produto 3, de valor: \" + produto3)"
   ]
  },
  {
   "cell_type": "code",
   "execution_count": 23,
   "metadata": {},
   "outputs": [
    {
     "name": "stdout",
     "output_type": "stream",
     "text": [
      "Os números informados em ordem decrescente é: 9, 5 e 1\n"
     ]
    }
   ],
   "source": [
    "# (3) PROGRAMA QUE LÊ 3 NÚMEROS E MOSTRA-OS EM ORDEM DECRESCENTE\n",
    "\n",
    "# Solicitando ao usuário os 3 números:\n",
    "num1 = input(\"Informe um número: \")\n",
    "num2 = input(\"Informe outro número: \")\n",
    "num3 = input(\"Informe mais um número: \")\n",
    "\n",
    "# Verificando a ordem correta de acordo com o valor digitado pelo usuário\n",
    "    # Nesse caso, temos 6 posssíveis combindações, então verificaremos de duas em duas:\n",
    "\n",
    "# Dessa forma veremos se o primeiro número é maior que os outros números\n",
    "if (num1 > num2 and num1 > num3):\n",
    "    # Verificando qual o segundo maior número\n",
    "    if (num2 > num3):\n",
    "        print (\"Os números informados em ordem decrescente é: \" + num1 + \", \" + num2 + \" e \" + num3)\n",
    "    # else para caso o número 2 não seja maior que o número 3, trocando sua ordem no print:\n",
    "    else: \n",
    "        print (\"Os números informados em ordem decrescente é: \" + num1 + \", \" + num3 + \" e \" + num2)\n",
    "\n",
    "# Repetindo o mesmo processo de verificação para as outras possíveis combinações\n",
    "elif (num2 > num1 and num2 > num3):\n",
    "    if (num1 > num3):\n",
    "        print (\"Os números informados em ordem decrescente é: \" + num2 + \", \" + num1 + \" e \" + num3)\n",
    "    else:\n",
    "        print (\"Os números informados em ordem decrescente é: \" + num2 + \", \" + num3 + \" e \" + num1)\n",
    "\n",
    "elif (num3 > num1 and num3 > num2):\n",
    "    if (num2 > num1):\n",
    "        print (\"Os números informados em ordem decrescente é: \" + num3 + \", \" + num2 + \" e \" + num1)\n",
    "    else: \n",
    "        print (\"Os números informados em ordem decrescente é: \" + num3 + \", \" + num1 + \" e \" + num2)"
   ]
  },
  {
   "cell_type": "code",
   "execution_count": 27,
   "metadata": {},
   "outputs": [
    {
     "name": "stdout",
     "output_type": "stream",
     "text": [
      "Boa tarde!\n"
     ]
    }
   ],
   "source": [
    "# (4) PROGRAMA QUE PERGUNTA O TURNO QUE O USUÁRIO ESTUDA E DÁ BOM DIA, BOA TARDE OU BOA NOITE\n",
    "# Criando uma lista \"Saudação\" e adicionando seus valores que serão usados de acordo com o turno\n",
    "saudacao = [\"Bom dia!\", \"Boa tarde!\", \"Boa noite!\"]\n",
    "\n",
    "# Solicitando ao usuário seu turno\n",
    "turno = input(\"Informe seu turno. OBS.: M - Matutino, V - Vespertino e N - Noturno.\")\n",
    "\n",
    "# Verificando qual saudação deverá ser usada de acordo com o turno informado\n",
    "if (turno == \"M\"):\n",
    "    print(saudacao[0])\n",
    "elif (turno == \"V\"):\n",
    "    print(saudacao[1])\n",
    "elif (turno == \"N\"):\n",
    "    print(saudacao[2])\n",
    "\n",
    "# Utilizando else para caso o valor informado não seja nenhuma das opções anteriores\n",
    "else:\n",
    "    print(\"Valor inválido\")\n"
   ]
  },
  {
   "cell_type": "code",
   "execution_count": 34,
   "metadata": {},
   "outputs": [
    {
     "name": "stdout",
     "output_type": "stream",
     "text": [
      "O dia da semana correspondente é: Domingo\n",
      "O dia da semana correspondente é: Domingo\n"
     ]
    }
   ],
   "source": [
    "# (5) PROGRAMA QUE LÊ UM NÚMERO E EXIBE O DIA CORRESPONDENTE DA SEMANA\n",
    "diaSemana = [\"Domingo\", \"Segunda\", \"Terça\", \"Quarta\", \"Quinta\", \"Sexta\", \"Sábado\"]\n",
    "\n",
    "# Solicitando um número ao usuário para que esse número corresponda ao dia da semana\n",
    "num = int(input(\"Digite um número: \"))\n",
    "\n",
    "# Indicando o dia correspondente ao número informado\n",
    "'''\n",
    "if (num == 1):\n",
    "    print(\"O dia da semana correspondente é: \" + diaSemana[0])\n",
    "elif (num == 2):\n",
    "    print(\"O dia da semana correspondente é: \" + diaSemana[1])\n",
    "elif (num == 3):\n",
    "    print(\"O dia da semana correspondente é: \" + diaSemana[2])\n",
    "elif (num == 4):\n",
    "    print(\"O dia da semana correspondente é: \" + diaSemana[3])\n",
    "elif (num == 5):\n",
    "    print(\"O dia da semana correspondente é: \" + diaSemana[4])\n",
    "elif (num == 6):\n",
    "    print(\"O dia da semana correspondente é: \" + diaSemana[5])\n",
    "elif (num == 7):\n",
    "    print(\"O dia da semana correspondente é: \" + diaSemana[6])\n",
    "else:\n",
    "    print(\"Valor inválido!\")\n",
    "'''\n",
    "\n",
    "# Adicionando parâmetros, utilizando a condição, para o valor que pode ser inserido \n",
    "if (num >= 1 and num <= 7):\n",
    "    # Printando ao usuário o dia da semana correspondente\n",
    "        # Já que os índices iniciam em 0, o índice correspondente ao dia da semana, será o valor inserido, menos 1\n",
    "    print(\"O dia da semana correspondente é: \" + diaSemana[num - 1])\n"
   ]
  },
  {
   "cell_type": "code",
   "execution_count": null,
   "metadata": {},
   "outputs": [],
   "source": [
    "# (5) PROGRAMA QUE LÊ DUAS NOTAS PARCIAIS OBTIDAS POR UM ALUNO NUMA DISCIPLINA, CALCULA A MÉDIA E INFORMA A SITUÇÃO\n",
    "\n",
    "# Solicitando ao usuário suas notas\n",
    "nota1 = float(input(\"informe sua primeira nota: \"))\n",
    "nota2 = float(input(\"informe sua segunda nota: \"))\n",
    "\n",
    "# Calculando a média\n",
    "media = (nota1 + nota2) / 2 \n",
    "\n",
    "# Verificando a situação do usuário de acordo com sua média\n",
    "if (media >= 9.0 and media <= 10):\n",
    "    print(\"APROVADO. Conceito: A\")\n",
    "elif (media >= 7.5 and media <= 9.0):\n",
    "    print(\"APROVADO. Conceito: B\")\n",
    "elif (media >= 6.0 and media <= 7.5):\n",
    "    print(\"APROVADO. Conceito: C\")\n",
    "elif (media >= 74.0 and media <= 6.0):\n",
    "    print(\"APROVADO. Conceito: D\")\n",
    "elif (media >= 4 and media <= 0):\n",
    "    print(\"APROVADO. Conceito: E\")"
   ]
  },
  {
   "cell_type": "code",
   "execution_count": null,
   "metadata": {},
   "outputs": [],
   "source": [
    "# (6) PROGRAMA QUE SOLICITA UM ANO E INFORMA SE ELE É BISSEXTO\n",
    "\n",
    "# Solicitando um ano ao usuário\n",
    "ano = int(input(\"Informe um ano de sua escolha: \"))\n",
    "\n",
    "# Verificando se o número indicado é bissexto\n",
    "    # Para o ano ser bissexto, são necessárias duas coisas:\n",
    "        # 1: O resto da sua divisão por 4 ser igual a 0\n",
    "        # 2: O resto da sua divisão por 100 ser diferente de 0\n",
    "if (ano % 4 == 0 and ano % 100 != 0):\n",
    "    print (\"O ano \" + ano \" é bissexto\")\n",
    "else:\n",
    "    print(\"O ano \" + ano \" não é bissexto\")"
   ]
  },
  {
   "cell_type": "code",
   "execution_count": null,
   "metadata": {},
   "outputs": [],
   "source": [
    "# (7) PROGRAMA QUE LÊ DOIS NÚMEROS, REALIZA UMA OPERAÇÃO BÁSICA E INDICA INFORMAÇÕES SOBRE O RESULTADO (PAR OU ÍMPAR, NEGATIVO OU POSITIVO, DECIMAL OU INTEIRO)\n",
    "\n",
    "# Criando uma variavel para alterar seu valor após o calculo\n",
    "resultado = 0\n",
    "\n",
    "# Solicitando dois números ao usuário\n",
    "num1 = float(input(\"Informe um número: \"))\n",
    "num2 = float(input(\"Informe outro número: \"))\n",
    "\n",
    "# Solicitando a operação desejada pelo usuário\n",
    "operacao = input(\"informe a operação desejada (+, -, * ou /\")\n",
    "\n",
    "# Realizando o cálculo\n",
    "if (operacao == \"+\"):\n",
    "    resultado = (num1 + num2)\n",
    "    print(\"Resultado da operação: \" + resultado)\n",
    "elif (operacao == \"-\"):\n",
    "    resultado == (num1 - num2)\n",
    "    print(\"Resultado da operação: \" + resultado)\n",
    "elif (operacao == \"*\"):\n",
    "    resultado == (num1 * num2)\n",
    "    print(\"Resultado da operação: \" + resultado)\n",
    "elif (operacao == \"/\"):\n",
    "    resultado == (num1 / num2)\n",
    "    print(\"Resultado da operação: \" + resultado)\n",
    "else:\n",
    "    print(\"Valor ou operação informada inválida!\")\n",
    "\n",
    "# Verificando se o resultado é par ou ímpar\n",
    "if (resultado % 2 = 0):\n",
    "    print(\"O número \" + resultado + \" é par\")\n",
    "else:\n",
    "    print(\"O número \" + resultado + \" é ímpar\")\n",
    "\n",
    "# Verificando se o resultado é positivo ou negativo\n",
    "if (resultado < 0):\n",
    "    print(\"O número \" + resultado + \" é negativo\")\n",
    "elif (resultado > 0):\n",
    "    print(\"O número \" + resultado + \" é positivo\")\n",
    "# Caso o resultado seja igual a zero:\n",
    "else:\n",
    "    print(\"O número \" + resultado + \" é neutro\")\n",
    "\n",
    "# Verificando se o número é inteiro ou decimal\n",
    "\n",
    "intDec = ['Inteiro' , 'Decimal']\n",
    "\n",
    "# if '.' in num1 or '.' in num2:\n",
    "#     intDec[0]\n",
    "# else:\n",
    "#     intDec[1]\n",
    "\n",
    "\n"
   ]
  },
  {
   "cell_type": "code",
   "execution_count": null,
   "metadata": {},
   "outputs": [],
   "source": [
    "# (8) PROGRAMA QUE SOLICITA A IDADE \n",
    "\n",
    "# Solicitando a idade do usuário \n",
    "idade = input(\"Informe sua idade\")\n",
    "\n",
    "# Exibindo informação de acordo com o valor inserido\n",
    "if (idade > 0 and idade < 150):\n",
    "    print(\"Olá! Sua idade é: \" + idade)\n",
    "else: \n",
    "    print(\"Valor informado fora do limite!\")"
   ]
  },
  {
   "cell_type": "code",
   "execution_count": null,
   "metadata": {},
   "outputs": [],
   "source": [
    "# (9) PROGRAMA QUE LÊ 5 NÚMEROS E INFORMA A SOMA E A MÉDIA\n",
    "\n",
    "# Criando uma lista vazia, onde serão armazenados os números informados pelo usuário\n",
    "numeros = []\n",
    "\n",
    "# Criando estrutura de repetição para solicitar 5 números ao usuário\n",
    "for i in range(5):\n",
    "    numero = float(input(f\"Informe o número {i+1}: \"))\n",
    "    numeros.append(numero)\n",
    "\n",
    "# Calculando a soma dos números\n",
    "soma = sum(numeros)\n",
    "\n",
    "# Calculando a média dos números\n",
    "media = soma / len(numeros)"
   ]
  }
 ],
 "metadata": {
  "kernelspec": {
   "display_name": "Python 3",
   "language": "python",
   "name": "python3"
  },
  "language_info": {
   "codemirror_mode": {
    "name": "ipython",
    "version": 3
   },
   "file_extension": ".py",
   "mimetype": "text/x-python",
   "name": "python",
   "nbconvert_exporter": "python",
   "pygments_lexer": "ipython3",
   "version": "3.12.2"
  }
 },
 "nbformat": 4,
 "nbformat_minor": 2
}
