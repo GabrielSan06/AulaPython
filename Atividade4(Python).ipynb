{
 "cells": [
  {
   "cell_type": "code",
   "execution_count": 8,
   "metadata": {},
   "outputs": [],
   "source": [
    "# (1) Solicitando dois números ao usuário.\n",
    "num1 = int(input(\"Digite um número inteiro: \"))\n",
    "num2 = float(input(\"Digite outro número: \"))"
   ]
  },
  {
   "cell_type": "code",
   "execution_count": 9,
   "metadata": {},
   "outputs": [
    {
     "name": "stdout",
     "output_type": "stream",
     "text": [
      "O produto do dobro do primeiro com metade do segundo é:  35.0\n"
     ]
    }
   ],
   "source": [
    "# (1a) Realizando o cálculo da letra a e printando ao usuário.\n",
    "c1 = (num1 * 2) * (num2 / 2)\n",
    "print(\"O produto do dobro do primeiro com metade do segundo é: \", c1)"
   ]
  },
  {
   "cell_type": "code",
   "execution_count": 12,
   "metadata": {},
   "outputs": [
    {
     "name": "stdout",
     "output_type": "stream",
     "text": [
      "A soma do triplo do primeiro com a metade do segundo 42890.0\n"
     ]
    }
   ],
   "source": [
    "# (1b) Realizando o cálculo da letra b e printando ao usuário.\n",
    "c2 = (num1 * 3) + (c1 ** 3)\n",
    "print(\"A soma do triplo do primeiro com a metade do segundo\", c2)"
   ]
  },
  {
   "cell_type": "code",
   "execution_count": 13,
   "metadata": {},
   "outputs": [
    {
     "name": "stdout",
     "output_type": "stream",
     "text": [
      "O número maior é:  8\n"
     ]
    }
   ],
   "source": [
    "# (2) Solicitando dois números ao usuário.\n",
    "numero1 = int(input(\"Digite um número: \"))\n",
    "numero2 = int(input(\"Digite outro número: \"))\n",
    "\n",
    "# Utilizando condicional para informar qual o valor maior.\n",
    "if (numero1 > numero2):\n",
    "        print(\"O número maior é: \", numero1)\n",
    "else: \n",
    "        print(\"O número maior é: \", numero2)"
   ]
  },
  {
   "cell_type": "code",
   "execution_count": 14,
   "metadata": {},
   "outputs": [
    {
     "name": "stdout",
     "output_type": "stream",
     "text": [
      "O valor inserido é negativo.\n"
     ]
    }
   ],
   "source": [
    "# (3) Solicitando um valor ao usuário.\n",
    "valor = int(input(\"Difite um número inteiro: \"))\n",
    "\n",
    "# Utilizando condicional para informarse o valor inserido é positivo ou negativo.\n",
    "if (valor >= 0):\n",
    "        print(\" O valor inserido é positivo.\")\n",
    "else: \n",
    "        print(\"O valor inserido é negativo.\")"
   ]
  },
  {
   "cell_type": "code",
   "execution_count": 15,
   "metadata": {},
   "outputs": [
    {
     "name": "stdout",
     "output_type": "stream",
     "text": [
      "Aprovado! Sua média final é:  8.0\n"
     ]
    }
   ],
   "source": [
    "# (4) Solicitando duas notas ao usuário.\n",
    "nota1 = float(input(\"informe sua primeira nota: \"))\n",
    "nota2 = float(input(\"informe sua segunda nota: \"))\n",
    "\n",
    "# Calculando a média.\n",
    "media = (nota1 + nota2) / 2\n",
    "\n",
    "# Utilizando condicional para verificar se o aluno está aprovado ou não.\n",
    "if (media >= 7):\n",
    "        print(\"Aprovado! Sua média final é: \", media)\n",
    "else: \n",
    "        print(\"Reprovado! Sua média final é: \", media)"
   ]
  },
  {
   "cell_type": "code",
   "execution_count": null,
   "metadata": {},
   "outputs": [],
   "source": [
    "# (5) Solicitando 3 valores ao usuário. \n",
    "valor1 = int(input(\"Digite um número: \"))\n",
    "valor2 = int(input(\"Digite outro número: \"))\n",
    "valor3 = int(input(\"Digite mais um número: \"))\n",
    "\n",
    "# Utilizando condicional para verificar e informar qual o maior número.\n",
    "\n"
   ]
  }
 ],
 "metadata": {
  "kernelspec": {
   "display_name": "Python 3",
   "language": "python",
   "name": "python3"
  },
  "language_info": {
   "codemirror_mode": {
    "name": "ipython",
    "version": 3
   },
   "file_extension": ".py",
   "mimetype": "text/x-python",
   "name": "python",
   "nbconvert_exporter": "python",
   "pygments_lexer": "ipython3",
   "version": "3.12.1"
  }
 },
 "nbformat": 4,
 "nbformat_minor": 2
}
