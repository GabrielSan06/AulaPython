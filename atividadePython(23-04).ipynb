{
 "cells": [
  {
   "cell_type": "code",
   "execution_count": 1,
   "metadata": {},
   "outputs": [],
   "source": [
    "# Criando lista vazia.\n",
    "L = []"
   ]
  },
  {
   "cell_type": "code",
   "execution_count": 2,
   "metadata": {},
   "outputs": [],
   "source": [
    "# Criando uma lista e adicionando 3 valores.\n",
    "dias = [3, 1, 10]"
   ]
  },
  {
   "cell_type": "code",
   "execution_count": 4,
   "metadata": {},
   "outputs": [
    {
     "data": {
      "text/plain": [
       "3"
      ]
     },
     "execution_count": 4,
     "metadata": {},
     "output_type": "execute_result"
    }
   ],
   "source": [
    "# Chamando o índice 0 da lista dias.\n",
    "dias[0]"
   ]
  },
  {
   "cell_type": "code",
   "execution_count": 5,
   "metadata": {},
   "outputs": [],
   "source": [
    "# Criando lista Z e adicionando 3 valores\n",
    "Z = [3, 8, 9]"
   ]
  },
  {
   "cell_type": "code",
   "execution_count": 6,
   "metadata": {},
   "outputs": [],
   "source": [
    "# Atualizando o valor do índice 0 para \"7\"\n",
    "Z[0] = 7"
   ]
  },
  {
   "cell_type": "code",
   "execution_count": 7,
   "metadata": {},
   "outputs": [
    {
     "data": {
      "text/plain": [
       "[7, 8, 9]"
      ]
     },
     "execution_count": 7,
     "metadata": {},
     "output_type": "execute_result"
    }
   ],
   "source": [
    "# Chamando a lista Z\n",
    "Z"
   ]
  },
  {
   "cell_type": "code",
   "execution_count": 8,
   "metadata": {},
   "outputs": [],
   "source": [
    "# Criando lista V\n",
    "V = [6, 7, 5, 8, 9]"
   ]
  },
  {
   "cell_type": "code",
   "execution_count": 9,
   "metadata": {},
   "outputs": [],
   "source": [
    "# Atribuindo os valores de V em L (aponta as duas listas para os mesmos valores)\n",
    "L = V"
   ]
  },
  {
   "cell_type": "code",
   "execution_count": 10,
   "metadata": {},
   "outputs": [
    {
     "data": {
      "text/plain": [
       "[6, 7, 5, 8, 9]"
      ]
     },
     "execution_count": 10,
     "metadata": {},
     "output_type": "execute_result"
    }
   ],
   "source": [
    "# Chamando L\n",
    "L"
   ]
  },
  {
   "cell_type": "code",
   "execution_count": 11,
   "metadata": {},
   "outputs": [],
   "source": [
    "# Criando lista a e atribuindo 3 valores\n",
    "a = [81, 82, 83]"
   ]
  },
  {
   "cell_type": "code",
   "execution_count": 12,
   "metadata": {},
   "outputs": [
    {
     "name": "stdout",
     "output_type": "stream",
     "text": [
      "True\n"
     ]
    }
   ],
   "source": [
    "# Atribuindo os valores de \"b\" em \"a\" (clone)\n",
    "b = a[:]\n",
    "\n",
    "# Perguntando se \"a\" é igual a \"b\" (comparando conteúdo)\n",
    "print(a == b)"
   ]
  },
  {
   "cell_type": "code",
   "execution_count": 13,
   "metadata": {},
   "outputs": [
    {
     "name": "stdout",
     "output_type": "stream",
     "text": [
      "False\n"
     ]
    }
   ],
   "source": [
    "print(a is b)\n",
    "# \"a\" não é igual a \"b\" pois \"b\" é uma cópia de \"a\""
   ]
  },
  {
   "cell_type": "code",
   "execution_count": 14,
   "metadata": {},
   "outputs": [],
   "source": [
    "# Alterando o valor do índice 0 em \"b\" para 5\n",
    "b[0] = 5"
   ]
  },
  {
   "cell_type": "code",
   "execution_count": 15,
   "metadata": {},
   "outputs": [
    {
     "data": {
      "text/plain": [
       "[81, 82, 83]"
      ]
     },
     "execution_count": 15,
     "metadata": {},
     "output_type": "execute_result"
    }
   ],
   "source": [
    "# Chamando a lista \"a\"\n",
    "a"
   ]
  },
  {
   "cell_type": "code",
   "execution_count": 16,
   "metadata": {},
   "outputs": [
    {
     "data": {
      "text/plain": [
       "[5, 82, 83]"
      ]
     },
     "execution_count": 16,
     "metadata": {},
     "output_type": "execute_result"
    }
   ],
   "source": [
    "# Chamando a lista \"b\"\n",
    "b"
   ]
  },
  {
   "cell_type": "code",
   "execution_count": 17,
   "metadata": {},
   "outputs": [],
   "source": [
    "# Atualizando o valor do índice 2 para 1 nas listas V e L\n",
    "V[2] = 1\n"
   ]
  },
  {
   "cell_type": "code",
   "execution_count": 18,
   "metadata": {},
   "outputs": [
    {
     "data": {
      "text/plain": [
       "[6, 7, 1, 8, 9]"
      ]
     },
     "execution_count": 18,
     "metadata": {},
     "output_type": "execute_result"
    }
   ],
   "source": [
    "# Chamando a lista L\n",
    "L"
   ]
  },
  {
   "cell_type": "code",
   "execution_count": 19,
   "metadata": {},
   "outputs": [],
   "source": [
    "# Criando uma lista com caractéres\n",
    "umaLista = ['a', 'b', 'c', 'd', 'e', 'f']"
   ]
  },
  {
   "cell_type": "code",
   "execution_count": 22,
   "metadata": {},
   "outputs": [
    {
     "name": "stdout",
     "output_type": "stream",
     "text": [
      "['b', 'c']\n",
      "['a', 'b', 'c', 'd']\n",
      "['d', 'e', 'f']\n",
      "['a', 'b', 'c', 'd', 'e', 'f']\n"
     ]
    }
   ],
   "source": [
    "# Printando do índice 1 até o índice 3 (isso não inclui o índice 3)\n",
    "print(umaLista[1:3])\n",
    "\n",
    "# Printando até índice 4\n",
    "print(umaLista[:4])\n",
    "\n",
    "# Printando do índice 3 em diante (isso ínclui  o índice 3 por ser o primeiro número)\n",
    "print(umaLista[3:])\n",
    "\n",
    "# Printando todos os itens da lista por não ter especificações\n",
    "print(umaLista[:])\n",
    "\n"
   ]
  },
  {
   "cell_type": "code",
   "execution_count": null,
   "metadata": {},
   "outputs": [],
   "source": [
    "# Dando valores a lista\n",
    "a = [1, 2, 3]\n",
    "\n",
    "# atribuindo os valores de \"a\" em \"b\"\n",
    "b = a[:]\n",
    "\n",
    "# Atualizando o valor do índice 0 de \"b\" para 5\n",
    "b[0] = 5\n",
    "\n",
    "# Printando o índice 3 de \"a\" (inexistente)\n",
    "print(a[3])"
   ]
  },
  {
   "cell_type": "code",
   "execution_count": 31,
   "metadata": {},
   "outputs": [],
   "source": [
    "# Criando uma Lista e atribuindo diferentes valores (adicionando mais dois valores ao final para serem substituídos)\n",
    "minhaLista = [76, 92.3, \"oi\", True, 4, 76, 0, 0]"
   ]
  },
  {
   "cell_type": "code",
   "execution_count": 32,
   "metadata": {},
   "outputs": [
    {
     "name": "stdout",
     "output_type": "stream",
     "text": [
      "pitomba\n"
     ]
    }
   ],
   "source": [
    "# A.1) Substituindo o valor do índice 6\n",
    "minhaLista[6] = \"pitomba\"\n",
    "print(minhaLista[6])"
   ]
  },
  {
   "cell_type": "code",
   "execution_count": 33,
   "metadata": {},
   "outputs": [
    {
     "name": "stdout",
     "output_type": "stream",
     "text": [
      "76\n"
     ]
    }
   ],
   "source": [
    "# A.2) Substituindo o valor do índice 7\n",
    "minhaLista[7] = 76\n",
    "print(minhaLista[7])"
   ]
  },
  {
   "cell_type": "code",
   "execution_count": 34,
   "metadata": {},
   "outputs": [
    {
     "name": "stdout",
     "output_type": "stream",
     "text": [
      "Cibele\n"
     ]
    }
   ],
   "source": [
    "# B)\n",
    "minhaLista[3] = \"Cibele\"\n",
    "print(minhaLista[3])\n"
   ]
  },
  {
   "cell_type": "code",
   "execution_count": null,
   "metadata": {},
   "outputs": [],
   "source": [
    "# C) \n",
    "minhaLista[0] = \"99\"\n",
    "\n"
   ]
  },
  {
   "cell_type": "code",
   "execution_count": 37,
   "metadata": {},
   "outputs": [
    {
     "name": "stdout",
     "output_type": "stream",
     "text": [
      "[76, 92.3, 'oi', True, 4, 76, 'pitomba', 76]\n"
     ]
    }
   ],
   "source": [
    "# A) \n",
    "minhaLista = [76, 92.3, \"oi\", True, 4, 76]\n",
    "minhaLista2 = [\"pitomba\", 76]\n",
    "\n",
    "minhaListap1 = minhaLista + minhaLista2\n",
    "print(minhaListap1)"
   ]
  },
  {
   "cell_type": "code",
   "execution_count": 40,
   "metadata": {},
   "outputs": [
    {
     "name": "stdout",
     "output_type": "stream",
     "text": [
      "[76, 92.3, 'oi', True]\n"
     ]
    }
   ],
   "source": [
    "# B.1) \n",
    "metade1Lista = minhaListap1[:4]\n",
    "print(metade1Lista)"
   ]
  },
  {
   "cell_type": "code",
   "execution_count": 41,
   "metadata": {},
   "outputs": [
    {
     "name": "stdout",
     "output_type": "stream",
     "text": [
      "[True, 4, 76, 'pitomba', 76]\n"
     ]
    }
   ],
   "source": [
    "# B.2)\n",
    "metade2Lista = minhaListap1[3:]\n",
    "print(metade2Lista)"
   ]
  },
  {
   "cell_type": "code",
   "execution_count": 42,
   "metadata": {},
   "outputs": [
    {
     "name": "stdout",
     "output_type": "stream",
     "text": [
      "[76, 92.3, 'oi', 'Cibele']\n"
     ]
    }
   ],
   "source": [
    "# B.3)\n",
    "metade1Lista[3] = \"Cibele\"\n",
    "print (metade1Lista)"
   ]
  },
  {
   "cell_type": "code",
   "execution_count": 43,
   "metadata": {},
   "outputs": [
    {
     "name": "stdout",
     "output_type": "stream",
     "text": [
      "[76, 92.3, 'oi', 'Cibele', True, 4, 76, 'pitomba', 76]\n"
     ]
    }
   ],
   "source": [
    "# B.4) \n",
    "minhaListap2 = metade1Lista + metade2Lista\n",
    "print(minhaListap2)"
   ]
  },
  {
   "cell_type": "code",
   "execution_count": 44,
   "metadata": {},
   "outputs": [
    {
     "name": "stdout",
     "output_type": "stream",
     "text": [
      "[99, 76, 92.3, 'oi', 'Cibele', True, 4, 76, 'pitomba', 76]\n"
     ]
    }
   ],
   "source": [
    "# C)\n",
    "novoValorALista = [99]\n",
    "minhaListap3 = novoValorALista + minhaListap2\n",
    "print(minhaListap3)"
   ]
  },
  {
   "cell_type": "code",
   "execution_count": 54,
   "metadata": {},
   "outputs": [
    {
     "name": "stdout",
     "output_type": "stream",
     "text": [
      "3\n"
     ]
    }
   ],
   "source": [
    "# D) \n",
    "if (minhaListap3[0] == 'oi'):\n",
    "        print(0)\n",
    "elif (minhaListap3[1] == 'oi'):\n",
    "        print(1)\n",
    "elif (minhaListap3[2] == 'oi'):\n",
    "        print(2)\n",
    "elif (minhaListap3[3] == 'oi'):\n",
    "        print(3)\n",
    "elif (minhaListap3[4] == 'oi'):\n",
    "        print(4)\n",
    "elif (minhaListap3[5] == 'oi'):\n",
    "        print(5)\n",
    "elif (minhaListap3[6] == 'oi'):\n",
    "        print(6)\n",
    "else:\n",
    "        print(\"índice maior que 6\")"
   ]
  },
  {
   "cell_type": "code",
   "execution_count": 53,
   "metadata": {},
   "outputs": [
    {
     "name": "stdout",
     "output_type": "stream",
     "text": [
      "[99, 76, 92.3, 'oi', 'Cibele', 'False :D', 4, 76, 'pitomba', 76]\n"
     ]
    }
   ],
   "source": [
    "# E)\n",
    "minhaListap3[5] = \"False :D\"\n",
    "print(minhaListap3)"
   ]
  },
  {
   "cell_type": "code",
   "execution_count": 60,
   "metadata": {},
   "outputs": [
    {
     "name": "stdout",
     "output_type": "stream",
     "text": [
      "[99, 76, 92.3, 'oi', 'Cibele', 4, 76, 'pitomba', 76]\n"
     ]
    }
   ],
   "source": [
    "# Resolução da letra E \"sem gambiarra\"\n",
    "removeTrue = minhaListap3[:5]\n",
    "removeTrue2 = minhaListap3[6:]\n",
    "minhaListap4 = removeTrue + removeTrue2\n",
    "print(minhaListap4)"
   ]
  }
 ],
 "metadata": {
  "kernelspec": {
   "display_name": "Python 3",
   "language": "python",
   "name": "python3"
  },
  "language_info": {
   "codemirror_mode": {
    "name": "ipython",
    "version": 3
   },
   "file_extension": ".py",
   "mimetype": "text/x-python",
   "name": "python",
   "nbconvert_exporter": "python",
   "pygments_lexer": "ipython3",
   "version": "3.11.9"
  }
 },
 "nbformat": 4,
 "nbformat_minor": 2
}
