{
 "cells": [
  {
   "cell_type": "code",
   "execution_count": 12,
   "metadata": {},
   "outputs": [
    {
     "name": "stdout",
     "output_type": "stream",
     "text": [
      "5  patinhos foram passear além das montanhas para brincar, a mamãe gritou: Quá, quá, quá, quá. Mas só  4 patinhos voltaram de lá.\n",
      "4  patinhos foram passear além das montanhas para brincar, a mamãe gritou: Quá, quá, quá, quá. Mas só  3 patinhos voltaram de lá.\n",
      "3  patinhos foram passear além das montanhas para brincar, a mamãe gritou: Quá, quá, quá, quá. Mas só  2 patinhos voltaram de lá.\n",
      "2  patinhos foram passear além das montanhas para brincar, a mamãe gritou: Quá, quá, quá, quá. Mas só  1 patinhos voltaram de lá.\n",
      "1  patinhos foram passear além das montanhas para brincar, a mamãe gritou: Quá, quá, quá, quá. Mas só  0 patinhos voltaram de lá.\n"
     ]
    }
   ],
   "source": [
    "# Criando variável e atribuindo seu valor como uma lista com a quantidade de patinhos\n",
    "quantPatinhos = [5, 4, 3, 2, 1]\n",
    "\n",
    "# Criando estrutura de repetição para diminuir a quantidade de patinhos até que chegue a 0\n",
    "for n in quantPatinhos:\n",
    "    print(n, \" patinhos foram passear, além das montanhas para brincar, a mamãe gritou: Quá, quá, quá, quá, mas só \", (n-1), \"patinhos voltaram de lá.\")"
   ]
  },
  {
   "cell_type": "code",
   "execution_count": 31,
   "metadata": {},
   "outputs": [
    {
     "name": "stdout",
     "output_type": "stream",
     "text": [
      "Mariana conta 1 Mariana conta 1: é 1, é 1, é Ana Viva a Mariana, viva a Mariana\n",
      "Mariana conta  2  Mariana conta  2 : é [1, 2] Ana Viva a Mariana, viva a Mariana\n",
      "Mariana conta  3  Mariana conta  3 : é [1, 2, 3] Ana Viva a Mariana, viva a Mariana\n",
      "Mariana conta  4  Mariana conta  4 : é [1, 2, 3, 4] Ana Viva a Mariana, viva a Mariana\n",
      "Mariana conta  5  Mariana conta  5 : é [1, 2, 3, 4, 5] Ana Viva a Mariana, viva a Mariana\n",
      "Mariana conta  6  Mariana conta  6 : é [1, 2, 3, 4, 5, 6] Ana Viva a Mariana, viva a Mariana\n",
      "Mariana conta  7  Mariana conta  7 : é [1, 2, 3, 4, 5, 6, 7] Ana Viva a Mariana, viva a Mariana\n",
      "Mariana conta  8  Mariana conta  8 : é [1, 2, 3, 4, 5, 6, 7, 8] Ana Viva a Mariana, viva a Mariana\n",
      "Mariana conta  9  Mariana conta  9 : é [1, 2, 3, 4, 5, 6, 7, 8, 9] Ana Viva a Mariana, viva a Mariana\n",
      "Mariana conta  10  Mariana conta  10 : é [1, 2, 3, 4, 5, 6, 7, 8, 9, 10] Ana Viva a Mariana, viva a Mariana\n"
     ]
    }
   ],
   "source": [
    "# Criando variável e atribuindo uma lista com os valores de 1 a 10\n",
    "conta = [ 1, 2, 3, 4, 5, 6, 7, 8, 9, 10]\n",
    "\n",
    "# Criando estrutura de repetição para fazer a contagem\n",
    "for n in conta:\n",
    "    # Se o n for igual a 1, terá o print diferente por conta da letra da música\n",
    "    if n == 1:\n",
    "      print(\"Mariana conta 1 Mariana conta 1: é 1, é 1, é Ana Viva a Mariana, viva a Mariana\")\n",
    "    # Caso o n não seja igual a 1, seu print será diferente \n",
    "    else:\n",
    "        print(\"Mariana conta \", n, \" Mariana conta \", n, \": é\", conta[0:n] ,\"Ana Viva a Mariana, viva a Mariana\")"
   ]
  },
  {
   "cell_type": "code",
   "execution_count": 37,
   "metadata": {},
   "outputs": [
    {
     "name": "stdout",
     "output_type": "stream",
     "text": [
      "1 elefante incomoda muita gente\n",
      "2 elefantes incomodam, incomodam,  muito mais\n",
      "3 elefantes incomodam muita gente\n",
      "4 elefantes incomodam, incomodam, incomodam, incomodam,  muito mais\n",
      "5 elefantes incomodam muita gente\n",
      "6 elefantes incomodam, incomodam, incomodam, incomodam, incomodam, incomodam,  muito mais\n",
      "7 elefantes incomodam muita gente\n",
      "8 elefantes incomodam, incomodam, incomodam, incomodam, incomodam, incomodam, incomodam, incomodam,  muito mais\n",
      "9 elefantes incomodam muita gente\n",
      "10 elefantes incomodam, incomodam, incomodam, incomodam, incomodam, incomodam, incomodam, incomodam, incomodam, incomodam,  muito mais\n"
     ]
    }
   ],
   "source": [
    "# Criando uma variável para a palavra \"incomodam\"\n",
    "incomodam = \"incomodam, \"\n",
    "\n",
    "# Criando estrutura de repetição para poder repetir a palavra incomoda\n",
    "for n in [1, 2, 3, 4, 5, 6, 7, 8, 9, 10]:\n",
    "    if n == 1:\n",
    "        print(n ,\"elefante incomoda muita gente\")\n",
    "    elif n%2 == 0:\n",
    "        print(n, \"elefantes\", incomodam*n ,\"muito mais\")\n",
    "    else: \n",
    "        print(n, \"elefantes incomodam muita gente\")"
   ]
  }
 ],
 "metadata": {
  "kernelspec": {
   "display_name": "Python 3",
   "language": "python",
   "name": "python3"
  },
  "language_info": {
   "codemirror_mode": {
    "name": "ipython",
    "version": 3
   },
   "file_extension": ".py",
   "mimetype": "text/x-python",
   "name": "python",
   "nbconvert_exporter": "python",
   "pygments_lexer": "ipython3",
   "version": "3.11.9"
  }
 },
 "nbformat": 4,
 "nbformat_minor": 2
}
