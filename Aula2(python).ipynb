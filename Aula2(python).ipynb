{
 "cells": [
  {
   "cell_type": "code",
   "execution_count": 1,
   "metadata": {},
   "outputs": [],
   "source": [
    "# Solicitando ao usuário o seu nome.\n",
    "nome = input('Digite seu nome: ')"
   ]
  },
  {
   "cell_type": "code",
   "execution_count": 2,
   "metadata": {},
   "outputs": [],
   "source": [
    "# Solicitando ao usuário a sua idade e tipando a variável \"idade\".\n",
    "idade = int(input('Digite sua idade: '))"
   ]
  },
  {
   "cell_type": "code",
   "execution_count": 3,
   "metadata": {},
   "outputs": [
    {
     "name": "stdout",
     "output_type": "stream",
     "text": [
      "  João 18\n"
     ]
    }
   ],
   "source": [
    "# Printando nome e idade do usuário.\n",
    "print(nome, idade)"
   ]
  },
  {
   "cell_type": "code",
   "execution_count": 5,
   "metadata": {},
   "outputs": [
    {
     "name": "stdout",
     "output_type": "stream",
     "text": [
      "Olá,   João sua idade é 18 .\n"
     ]
    }
   ],
   "source": [
    "# Printando nome e idade dentro de um texto.\n",
    "print('Olá, ', nome, 'sua idade é', idade, '.')   "
   ]
  },
  {
   "cell_type": "code",
   "execution_count": 6,
   "metadata": {},
   "outputs": [
    {
     "data": {
      "text/plain": [
       "str"
      ]
     },
     "execution_count": 6,
     "metadata": {},
     "output_type": "execute_result"
    }
   ],
   "source": [
    "# Tipo da variável \"nome\".\n",
    "type(nome)"
   ]
  },
  {
   "cell_type": "code",
   "execution_count": 9,
   "metadata": {},
   "outputs": [
    {
     "data": {
      "text/plain": [
       "str"
      ]
     },
     "execution_count": 9,
     "metadata": {},
     "output_type": "execute_result"
    }
   ],
   "source": [
    "# Tipo da variável \"idade\".\n",
    "type(idade)"
   ]
  },
  {
   "cell_type": "code",
   "execution_count": 10,
   "metadata": {},
   "outputs": [],
   "source": [
    "# Solicitando dois valores ao usuário\n",
    "valor1 = input('Digite um número inteiro: ')\n",
    "valor2 = input('Digite  outro número inteiro: ')"
   ]
  },
  {
   "cell_type": "code",
   "execution_count": 11,
   "metadata": {},
   "outputs": [
    {
     "name": "stdout",
     "output_type": "stream",
     "text": [
      "False\n",
      "False\n",
      "True\n",
      "False\n",
      "True\n"
     ]
    }
   ],
   "source": [
    "# Printando com diferentes operadores lógicos.\n",
    "print(valor1 == valor2)\n",
    "print(valor1 > valor2)\n",
    "print(valor1 < valor2)\n",
    "print(valor1 >= valor2)\n",
    "print(valor1 <= valor2)"
   ]
  },
  {
   "cell_type": "code",
   "execution_count": 12,
   "metadata": {},
   "outputs": [],
   "source": [
    "# Criando senha e solicitando-a ao usuário.\n",
    "senha = '1234567'"
   ]
  },
  {
   "cell_type": "code",
   "execution_count": 14,
   "metadata": {},
   "outputs": [],
   "source": [
    "# Solicitando a senha ao usuário.\n",
    "tentativaSenha = input('Digite sua senha: ')"
   ]
  },
  {
   "cell_type": "code",
   "execution_count": 15,
   "metadata": {},
   "outputs": [
    {
     "name": "stdout",
     "output_type": "stream",
     "text": [
      "True\n"
     ]
    }
   ],
   "source": [
    "# Verificando se a senha escrita pelo usuário é igual a senha armazenada.\n",
    "print(senha == tentativaSenha)"
   ]
  },
  {
   "cell_type": "code",
   "execution_count": 16,
   "metadata": {},
   "outputs": [
    {
     "name": "stdout",
     "output_type": "stream",
     "text": [
      "False\n"
     ]
    }
   ],
   "source": [
    "# Criando variável \"numero\" e fazendo comparações com valores.\n",
    "numero = 10\n",
    "print(numero > 0 and numero < 10)"
   ]
  },
  {
   "cell_type": "code",
   "execution_count": 26,
   "metadata": {},
   "outputs": [],
   "source": [
    "# Solicitando o número ao usuário.\n",
    "numero = int(input('Digite um número inteiro'))"
   ]
  },
  {
   "cell_type": "code",
   "execution_count": 27,
   "metadata": {},
   "outputs": [
    {
     "name": "stdout",
     "output_type": "stream",
     "text": [
      "0 é par\n"
     ]
    }
   ],
   "source": [
    "# Verificando se o número é par ou ímpar.\n",
    "if (numero % 2 == 0):\n",
    "    print(numero, 'é par')\n",
    "else:\n",
    "    print(número, 'é ímpar')"
   ]
  },
  {
   "cell_type": "code",
   "execution_count": 29,
   "metadata": {},
   "outputs": [],
   "source": [
    "# Armazenando valor pedido ao usuário.\n",
    "cupom = input('Digite o cupom: ')"
   ]
  },
  {
   "cell_type": "code",
   "execution_count": 30,
   "metadata": {},
   "outputs": [
    {
     "name": "stdout",
     "output_type": "stream",
     "text": [
      "Você ganhou 10% de desconto\n"
     ]
    }
   ],
   "source": [
    "# Utilizando condicional para verificar se o usuário receberá o desconto.\n",
    "if (cupom == 'aula1' or cupom == 'aula2'):\n",
    "    print('Você ganhou 10% de desconto')"
   ]
  }
 ],
 "metadata": {
  "kernelspec": {
   "display_name": "Python 3",
   "language": "python",
   "name": "python3"
  },
  "language_info": {
   "codemirror_mode": {
    "name": "ipython",
    "version": 3
   },
   "file_extension": ".py",
   "mimetype": "text/x-python",
   "name": "python",
   "nbconvert_exporter": "python",
   "pygments_lexer": "ipython3",
   "version": "3.11.8"
  }
 },
 "nbformat": 4,
 "nbformat_minor": 2
}
